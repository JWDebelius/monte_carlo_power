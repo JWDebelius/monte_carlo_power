{
 "cells": [
  {
   "cell_type": "code",
   "execution_count": 55,
   "metadata": {
    "collapsed": false
   },
   "outputs": [],
   "source": [
    "# need to run in the conda --power environment: source activate power; source deactivate.\n",
    "# functions \n",
    "from multiprocessing import Pool\n",
    "import os\n",
    "import pickle\n",
    "\n",
    "import numpy as np\n",
    "import pandas as pd\n",
    "import scipy\n",
    "import skbio\n",
    "\n",
    "from machivellian.power import subsample_power"
   ]
  },
  {
   "cell_type": "code",
   "execution_count": 56,
   "metadata": {
    "collapsed": true
   },
   "outputs": [],
   "source": [
    "overwrite = False"
   ]
  },
  {
   "cell_type": "code",
   "execution_count": 57,
   "metadata": {
    "collapsed": true
   },
   "outputs": [],
   "source": [
    "# file handing parameters\n",
    "txt_delim = '\\t'\n",
    "map_index = '#SampleID'\n",
    "map_nas = ['NA', 'no_data', 'unknown', '']\n",
    "write_na = ''"
   ]
  },
  {
   "cell_type": "code",
   "execution_count": 58,
   "metadata": {
    "collapsed": false
   },
   "outputs": [],
   "source": [
    "# Loads the sample data into the notebook\n",
    "all_map = pd.read_csv('7739_analysis_mapping.txt',\n",
    "                      sep = txt_delim, \n",
    "                      na_values = map_nas\n",
    "                      ) \n",
    "\n",
    "all_uud = skbio.DistanceMatrix.read('unweighted_unifrac_dm.txt')"
   ]
  },
  {
   "cell_type": "code",
   "execution_count": 59,
   "metadata": {
    "collapsed": false
   },
   "outputs": [],
   "source": [
    "# subset the sample with ids only in unifrac distance\n",
    "ids = pd.read_csv('unweighted_unifrac_dm.txt',\n",
    "                      sep = txt_delim, \n",
    "                      usecols = [0],\n",
    "                      na_values = map_nas\n",
    "                      )\n",
    "ids.columns = [map_index]\n",
    "data_map = pd.merge(ids, all_map,  on=[map_index], how='inner')"
   ]
  },
  {
   "cell_type": "code",
   "execution_count": 60,
   "metadata": {
    "collapsed": false
   },
   "outputs": [],
   "source": [
    "# subset the sample in nose and foot\n",
    "data_map = data_map.loc[data_map['body_site'].isin(['UBERON:nose', 'UBERON:zone of skin of foot'])]"
   ]
  },
  {
   "cell_type": "code",
   "execution_count": 111,
   "metadata": {
    "collapsed": false
   },
   "outputs": [],
   "source": [
    "# choose the values of parameters\n",
    "depth = 49"
   ]
  },
  {
   "cell_type": "code",
   "execution_count": 11,
   "metadata": {
    "collapsed": true
   },
   "outputs": [],
   "source": [
    "# Justin's version\n",
    "def test(ids): \n",
    "        obs = np.hstack(ids) \n",
    "        res = skbio.stats.distance.permanova(\n",
    "            distance_matrix=dm.filter(obs),\n",
    "            grouping=groups.loc[obs],\n",
    "            permutations=depth,\n",
    "        )\n",
    "        return res['p-value']\n",
    "    \n",
    "# groups = data_map?\n",
    "# groups.loc[obs] doesn't work"
   ]
  },
  {
   "cell_type": "code",
   "execution_count": 112,
   "metadata": {
    "collapsed": false
   },
   "outputs": [],
   "source": [
    "# my modification\n",
    "def test(ids): \n",
    "        obs = np.hstack(ids) \n",
    "        res = skbio.stats.distance.permanova(\n",
    "            distance_matrix=dm.filter(obs),\n",
    "            grouping=groups,\n",
    "            permutations=depth,\n",
    "        )\n",
    "        return res['p-value']\n",
    "    "
   ]
  },
  {
   "cell_type": "code",
   "execution_count": 113,
   "metadata": {
    "collapsed": false
   },
   "outputs": [
    {
     "data": {
      "text/plain": [
       "0.02"
      ]
     },
     "execution_count": 113,
     "metadata": {},
     "output_type": "execute_result"
    }
   ],
   "source": [
    "dm = all_uud\n",
    "groups = data_map['body_site']\n",
    "ids2 = data_map[map_index]\n",
    "test(ids2)"
   ]
  },
  {
   "cell_type": "code",
   "execution_count": 114,
   "metadata": {
    "collapsed": false
   },
   "outputs": [
    {
     "data": {
      "text/plain": [
       "3      449.F33Fotr\n",
       "5      449.F32Fotl\n",
       "7      449.M24Fotl\n",
       "23     449.M53Fotr\n",
       "38     449.F21Fotl\n",
       "65     449.M53Fotl\n",
       "67     449.F31Fotr\n",
       "68     449.F32Nose\n",
       "96     449.F34Fotr\n",
       "97     449.M64Fotl\n",
       "108    449.M54Fotr\n",
       "117    449.M31Fotr\n",
       "121    449.M32Nose\n",
       "139    449.M41Nose\n",
       "142    449.M22Nose\n",
       "151    449.M42Nose\n",
       "169    449.M23Fotr\n",
       "170    449.F33Fotl\n",
       "171    449.F34Fotl\n",
       "172    449.M11Fotl\n",
       "173    449.M22Fotr\n",
       "175    449.M21Fotl\n",
       "176    449.M21Fotr\n",
       "178    449.F14Fotr\n",
       "179    449.F13Fotr\n",
       "180    449.F12Fotl\n",
       "183    449.M32Fotr\n",
       "206    449.F12Nose\n",
       "220    449.M22Fotl\n",
       "227    449.F31Fotl\n",
       "243    449.M64Fotr\n",
       "244    449.M14Fotr\n",
       "251    449.M31Nose\n",
       "269    449.M44Fotl\n",
       "281    449.M43Fotr\n",
       "284    449.F32Fotr\n",
       "287    449.M14Fotl\n",
       "290    449.F22Nose\n",
       "296    449.M12Fotl\n",
       "311    449.F24Fotr\n",
       "312    449.F12Fotr\n",
       "343    449.M12Nose\n",
       "346    449.F21Nose\n",
       "357    449.F31Nose\n",
       "366    449.F22Fotl\n",
       "383    449.M43Fotl\n",
       "386    449.F22Fotr\n",
       "391    449.F23Fotr\n",
       "395    449.M41Fotr\n",
       "396    449.M41Fotl\n",
       "397    449.M42Fotl\n",
       "400    449.F24Fotl\n",
       "408    449.F23Fotl\n",
       "Name: #SampleID, dtype: object"
      ]
     },
     "execution_count": 114,
     "metadata": {},
     "output_type": "execute_result"
    }
   ],
   "source": [
    "ids2"
   ]
  },
  {
   "cell_type": "code",
   "execution_count": 108,
   "metadata": {
    "collapsed": false
   },
   "outputs": [],
   "source": [
    "# set values for parameters\n",
    "samples = np.vstack(ids2)\n",
    "alpha = 0.1\n",
    "num_runs = 2\n",
    "num_iter = 10\n",
    "counts = np.arange(2, 5, 1)"
   ]
  },
  {
   "cell_type": "code",
   "execution_count": 109,
   "metadata": {
    "collapsed": false
   },
   "outputs": [
    {
     "data": {
      "text/plain": [
       "array([2, 3, 4])"
      ]
     },
     "execution_count": 109,
     "metadata": {},
     "output_type": "execute_result"
    }
   ],
   "source": [
    "counts"
   ]
  },
  {
   "cell_type": "code",
   "execution_count": 110,
   "metadata": {
    "collapsed": false
   },
   "outputs": [
    {
     "ename": "ValueError",
     "evalue": "Sampling depth is too high. Please use replacement or pick fewer observations.",
     "output_type": "error",
     "traceback": [
      "\u001b[0;31m---------------------------------------------------------------------------\u001b[0m",
      "\u001b[0;31mValueError\u001b[0m                                Traceback (most recent call last)",
      "\u001b[0;32m<ipython-input-110-784c112d14b3>\u001b[0m in \u001b[0;36m<module>\u001b[0;34m()\u001b[0m\n\u001b[1;32m      6\u001b[0m                        \u001b[0mnum_runs\u001b[0m\u001b[0;34m=\u001b[0m\u001b[0;36m5\u001b[0m\u001b[0;34m,\u001b[0m\u001b[0;34m\u001b[0m\u001b[0m\n\u001b[1;32m      7\u001b[0m                        \u001b[0malpha\u001b[0m\u001b[0;34m=\u001b[0m\u001b[0malpha\u001b[0m\u001b[0;34m,\u001b[0m\u001b[0;34m\u001b[0m\u001b[0m\n\u001b[0;32m----> 8\u001b[0;31m                        \u001b[0mbootstrap\u001b[0m\u001b[0;34m=\u001b[0m\u001b[0;32mFalse\u001b[0m\u001b[0;34m,\u001b[0m\u001b[0;34m\u001b[0m\u001b[0m\n\u001b[0m\u001b[1;32m      9\u001b[0m                        )\n",
      "\u001b[0;32m/Users/Serene/Dropbox/Knight/power_calculation/7739_files/machivellian/power.py\u001b[0m in \u001b[0;36msubsample_power\u001b[0;34m(test, samples, counts, draw_mode, numeric, alpha, ratio, bootstrap, num_iter, num_runs)\u001b[0m\n\u001b[1;32m    141\u001b[0m                                                  \u001b[0mratio\u001b[0m\u001b[0;34m=\u001b[0m\u001b[0mratio\u001b[0m\u001b[0;34m,\u001b[0m\u001b[0;34m\u001b[0m\u001b[0m\n\u001b[1;32m    142\u001b[0m                                                  \u001b[0mbootstrap\u001b[0m\u001b[0;34m=\u001b[0m\u001b[0mbootstrap\u001b[0m\u001b[0;34m,\u001b[0m\u001b[0;34m\u001b[0m\u001b[0m\n\u001b[0;32m--> 143\u001b[0;31m                                                  counts=counts)\n\u001b[0m\u001b[1;32m    144\u001b[0m \u001b[0;34m\u001b[0m\u001b[0m\n\u001b[1;32m    145\u001b[0m     \u001b[0;31m# Prealocates the power array\u001b[0m\u001b[0;34m\u001b[0m\u001b[0;34m\u001b[0m\u001b[0m\n",
      "\u001b[0;32m/Users/Serene/Dropbox/Knight/power_calculation/7739_files/machivellian/power.py\u001b[0m in \u001b[0;36m_check_subsample_power_inputs\u001b[0;34m(test, samples, counts, draw_mode, ratio, bootstrap)\u001b[0m\n\u001b[1;32m    379\u001b[0m \u001b[0;34m\u001b[0m\u001b[0m\n\u001b[1;32m    380\u001b[0m     \u001b[0;32melif\u001b[0m \u001b[0;32mnot\u001b[0m \u001b[0mbootstrap\u001b[0m \u001b[0;32mand\u001b[0m \u001b[0mcounts\u001b[0m\u001b[0;34m.\u001b[0m\u001b[0mmax\u001b[0m\u001b[0;34m(\u001b[0m\u001b[0;34m)\u001b[0m \u001b[0;34m>\u001b[0m \u001b[0mlargest\u001b[0m\u001b[0;34m:\u001b[0m\u001b[0;34m\u001b[0m\u001b[0m\n\u001b[0;32m--> 381\u001b[0;31m         raise ValueError('Sampling depth is too high. Please use replacement '\n\u001b[0m\u001b[1;32m    382\u001b[0m                          'or pick fewer observations.')\n\u001b[1;32m    383\u001b[0m \u001b[0;34m\u001b[0m\u001b[0m\n",
      "\u001b[0;31mValueError\u001b[0m: Sampling depth is too high. Please use replacement or pick fewer observations."
     ]
    }
   ],
   "source": [
    " # Calculates power\n",
    "power = subsample_power(test=test,\n",
    "                        samples=samples,\n",
    "                        counts=counts,\n",
    "                        num_iter=100,\n",
    "                        num_runs=5,\n",
    "                        alpha=alpha,\n",
    "                        bootstrap=False,\n",
    "                        )"
   ]
  },
  {
   "cell_type": "code",
   "execution_count": null,
   "metadata": {
    "collapsed": true
   },
   "outputs": [],
   "source": []
  }
 ],
 "metadata": {
  "anaconda-cloud": {},
  "kernelspec": {
   "display_name": "Python [power]",
   "language": "python",
   "name": "Python [power]"
  },
  "language_info": {
   "codemirror_mode": {
    "name": "ipython",
    "version": 3
   },
   "file_extension": ".py",
   "mimetype": "text/x-python",
   "name": "python",
   "nbconvert_exporter": "python",
   "pygments_lexer": "ipython3",
   "version": "3.5.1"
  }
 },
 "nbformat": 4,
 "nbformat_minor": 0
}
