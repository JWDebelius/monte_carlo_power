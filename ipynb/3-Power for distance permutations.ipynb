{
 "cells": [
  {
   "cell_type": "markdown",
   "metadata": {},
   "source": [
    "We can examine the distance based effects used for PERMANOVA and the Mantel test. Here, the observations are not independent, permutative testing is required. We have also chosen to subsample without replacement, due to potential problems associated with the distance between the same sample drawn twice.\n",
    "\n",
    "The notebook will take the form of building functions which will facilitate the power calculations, and then applying them. The format will feel similar to previous notebooks, where data was presented and then calculated, although this notebook is setup to allow parallel processing to limit run time. We ran this notebook using supercomputers, including the Knight Lab supercomputer and UC San Diego Jupyterhub. We recommend this notebook be used for review and not be run on a local computer. The estimated run time for serial processing is at least 4 hours, however may take longer depending on the speed of your system.\n",
    "\n",
    "You can download the precalculated files from XXX."
   ]
  },
  {
   "cell_type": "code",
   "execution_count": 1,
   "metadata": {
    "collapsed": false
   },
   "outputs": [],
   "source": [
    "from multiprocessing import Pool\n",
    "import os\n",
    "import pickle\n",
    "\n",
    "import numpy as np\n",
    "import pandas as pd\n",
    "import scipy\n",
    "import skbio\n",
    "\n",
    "from emp_power.power import subsample_power"
   ]
  },
  {
   "cell_type": "markdown",
   "metadata": {},
   "source": [
    "To insure consistency with simulations, we'll set a seed."
   ]
  },
  {
   "cell_type": "code",
   "execution_count": 2,
   "metadata": {
    "collapsed": true
   },
   "outputs": [],
   "source": [
    "np.random.seed(25) "
   ]
  },
  {
   "cell_type": "markdown",
   "metadata": {},
   "source": [
    "# Simulation Parameters"
   ]
  },
  {
   "cell_type": "markdown",
   "metadata": {},
   "source": [
    "This notebook is intended to be run in parallel, thus we'll set the number of threads. By default, we'll use 1. However, on a system with more threads, a larger number of processing steps can be performed to limit runtime."
   ]
  },
  {
   "cell_type": "code",
   "execution_count": 3,
   "metadata": {
    "collapsed": true
   },
   "outputs": [],
   "source": [
    "num_cpus = 1"
   ]
  },
  {
   "cell_type": "markdown",
   "metadata": {},
   "source": [
    "A second way to limit runtime is by setting the overwrite variable. This will only calculate power for simulations which do not already exist."
   ]
  },
  {
   "cell_type": "code",
   "execution_count": 4,
   "metadata": {
    "collapsed": true
   },
   "outputs": [],
   "source": [
    "overwrite = False"
   ]
  },
  {
   "cell_type": "markdown",
   "metadata": {},
   "source": [
    "We'll loop over the 100 simulations, which should be placed in a simulations folder under the current directory. You can download the precalculated simulations [here]."
   ]
  },
  {
   "cell_type": "code",
   "execution_count": 5,
   "metadata": {
    "collapsed": true
   },
   "outputs": [],
   "source": [
    "num_rounds = 100\n",
    "\n",
    "sim_location = './simulations/'\n",
    "if not os.path.exists(sim_location):\n",
    "    raise ValueError('The simulations do not exist. '\n",
    "                     'Go back and simulate some data!')"
   ]
  },
  {
   "cell_type": "markdown",
   "metadata": {},
   "source": [
    "For this type of permutative testing, we'll select somewhat stringent parameters. We'll use the common biological threshold of 0.05 as our critical value. We'll perform 99 permutations which will give us a minimum p-value of 0.01."
   ]
  },
  {
   "cell_type": "code",
   "execution_count": 6,
   "metadata": {
    "collapsed": true
   },
   "outputs": [],
   "source": [
    "depth = 99\n",
    "alpha = 0.05"
   ]
  },
  {
   "cell_type": "markdown",
   "metadata": {},
   "source": [
    "Finally, we'll define a series of file paths where we can save the output data, and we'll make sure the directories exist."
   ]
  },
  {
   "cell_type": "code",
   "execution_count": 7,
   "metadata": {
    "collapsed": false
   },
   "outputs": [],
   "source": [
    "distributions = {\n",
    "    'mantel': {'sim_dir': os.path.join(sim_location, 'data/mantel'),\n",
    "               'power_dir': os.path.join(sim_location, 'power/mantel/'),\n",
    "                },\n",
    "    'permanova': {'sim_dir': os.path.join(sim_location, 'data/permanova'),\n",
    "                  'power_dir': os.path.join(sim_location, 'power/permanova/'),\n",
    "                  }\n",
    "    }\n",
    "\n",
    "for test, dirs in distributions.items():\n",
    "    sim_dir = dirs['sim_dir']\n",
    "    if not os.path.exists(sim_dir):\n",
    "        os.makedirs(sim_dir)\n",
    "    power_dir = dirs['power_dir']\n",
    "    if not os.path.exists(power_dir):\n",
    "        os.makedirs(power_dir)"
   ]
  },
  {
   "cell_type": "markdown",
   "metadata": {},
   "source": [
    "# Power Calculation"
   ]
  },
  {
   "cell_type": "markdown",
   "metadata": {},
   "source": [
    "To appropriately handle the parallel processing, we'll write a wrapper function, and then use this in the parallel processing method."
   ]
  },
  {
   "cell_type": "markdown",
   "metadata": {},
   "source": [
    "## Permanova"
   ]
  },
  {
   "cell_type": "markdown",
   "metadata": {},
   "source": [
    "To look at power associated with a test for a categorical variable on a distance matrix, we'll pass in a simulation, the critical value and number of power calculations to perform, and a filepath where we'll save the directory.\n",
    "\n",
    "We'll retrieve the distance matrix and grouping series from the samples object we built during the simulation, and separate the observations into groups. The power calculation method draws observations from each set independently, we need to partition the observations into groups.\n",
    "\n",
    "We then define the counts. Because the observations in a distance matrix are not independent (the distance between a sample and itself is 0, for instance), bootstrapping from the distance matrix alone becomes more of a challenge. To address this, we perform subsampling without replacement of the existing observations.\n",
    "\n",
    "We then define the test, which will take a list of the observations and return a p value.\n",
    "\n",
    "We then calculate power as the fraction of times there is a significant difference in 100 tests at the specified depth. To account for variability in the data, we'll perform this power calculation 5 times.\n",
    "\n",
    "The output information will be put in a summary dictionary and saved to a binary pickle file."
   ]
  },
  {
   "cell_type": "code",
   "execution_count": 8,
   "metadata": {
    "collapsed": false
   },
   "outputs": [],
   "source": [
    "def calculate_permanova_power(simulation, alpha, depth, power_fp):\n",
    "    \"\"\"A helper function for handling power simulations\"\"\"\n",
    "\n",
    "    # Draws the groups and distance matrix and idenifies the sample\n",
    "    dm, groups = simulation['samples']\n",
    "    samples = [groups.loc[groups == i].index for i in [0, 1]]\n",
    "    \n",
    "    # Sets up the counts because we cannot bootstrap\n",
    "    counts = np.arange(5, min([len(s) for s in samples]) - 10, 10)\n",
    "\n",
    "    # Defines the statistical test\n",
    "    def test(ids):\n",
    "        obs = np.hstack(ids)\n",
    "        res = skbio.stats.distance.permanova(\n",
    "            distance_matrix=dm.filter(obs),\n",
    "            grouping=groups.loc[obs],\n",
    "            permutations=depth,\n",
    "        )\n",
    "        return res['p-value']\n",
    "    \n",
    "    # Calculates power\n",
    "    power = subsample_power(test=test,\n",
    "                            samples=samples,\n",
    "                            counts=counts,\n",
    "                            num_iter=100,\n",
    "                            num_runs=5,\n",
    "                            alpha=alpha,\n",
    "                            bootstrap=False,\n",
    "                            )\n",
    "    \n",
    "    # Generates the summary dictionary\n",
    "    power_summary = {'emperical_power': power,\n",
    "                     'traditional_power': None,\n",
    "                     'original_p': test(samples),\n",
    "                     'num_obs': len(samples[0]),\n",
    "                     'counts': counts,\n",
    "                     }\n",
    "    \n",
    "    with open(power_fp, 'wb') as f_:\n",
    "        pickle.dump(power_summary, f_)"
   ]
  },
  {
   "cell_type": "markdown",
   "metadata": {},
   "source": [
    "We'll add this function to our distributions dictionary."
   ]
  },
  {
   "cell_type": "code",
   "execution_count": 9,
   "metadata": {
    "collapsed": false
   },
   "outputs": [],
   "source": [
    "distributions['permanova']['function'] = calculate_permanova_power"
   ]
  },
  {
   "cell_type": "markdown",
   "metadata": {
    "collapsed": false
   },
   "source": [
    "## Mantel Calculation"
   ]
  },
  {
   "cell_type": "markdown",
   "metadata": {},
   "source": [
    "The function we'll use in the mantel test will be similar to what was used in the PERMANOVA, although here, we can instead just subsample the correlation matrix, since we're focused on correlations."
   ]
  },
  {
   "cell_type": "code",
   "execution_count": 10,
   "metadata": {
    "collapsed": true
   },
   "outputs": [],
   "source": [
    "def calculate_mantel_power(simulation, power_fp, alpha, depth):\n",
    "    \"\"\"Wrapper to calculate power for the mantel test\"\"\"\n",
    "\n",
    "    # Draws the groups and distance matrix and idenifies the sample\n",
    "    x, y = simulation['samples']\n",
    "    samples = [np.array(x.ids)]\n",
    "    \n",
    "    # Sets up the counts vector\n",
    "    counts = np.arange(5, len(samples[0]) - 10, 10)\n",
    "    \n",
    "    def test(samples):\n",
    "        obs = samples[0]\n",
    "        res = skbio.stats.distance.mantel(\n",
    "            x.filter(obs),\n",
    "            y.filter(obs),\n",
    "            permutations=depth\n",
    "        )\n",
    "        return res[1]\n",
    "    \n",
    "    power = subsample_power(test=test,\n",
    "                            samples=samples,\n",
    "                            counts=counts,\n",
    "                            num_iter=100,\n",
    "                            num_runs=5,\n",
    "                            alpha=alpha,\n",
    "                            bootstrap=False,\n",
    "                            draw_mode='matched'\n",
    "                            )\n",
    "    # Generates the summary dictionary\n",
    "    power_summary = {'emperical_power': power,\n",
    "                     'traditional_power': None,\n",
    "                     'original_p': test(samples),\n",
    "                     'num_obs': len(samples[0]),\n",
    "                     'depth': depth,\n",
    "                     'alpha': alpha,\n",
    "                     'counts': counts,\n",
    "                     }\n",
    "    \n",
    "    # Saves the file\n",
    "    with open(power_fp, 'wb') as f_:\n",
    "        pickle.dump(power_summary, f_)"
   ]
  },
  {
   "cell_type": "code",
   "execution_count": 11,
   "metadata": {
    "collapsed": true
   },
   "outputs": [],
   "source": [
    "distributions['mantel']['function'] = calculate_mantel_power"
   ]
  },
  {
   "cell_type": "markdown",
   "metadata": {},
   "source": [
    "We'll also add this to the simulation dictionary."
   ]
  },
  {
   "cell_type": "code",
   "execution_count": 12,
   "metadata": {
    "collapsed": false
   },
   "outputs": [],
   "source": [
    "p = Pool(num_cpus)\n",
    "for i in range(num_rounds):\n",
    "    # Loads the simulation\n",
    "    for test, dirs in distributions.items():\n",
    "        sim_dir = dirs['sim_dir']\n",
    "        power_dir = dirs['power_dir']\n",
    "        sim_func = dirs['function']\n",
    "        \n",
    "        simulation_fp = os.path.join(sim_dir, 'simulation_%i.p' % i)\n",
    "        with open(simulation_fp, 'rb') as f_:\n",
    "            simulation = pickle.load(f_)\n",
    "        # Generates the power calculation if appropriate\n",
    "        power_fp = os.path.join(power_dir, 'simulation_%i.p' % i)\n",
    "        if (overwrite or (not os.path.exists(power_fp))):\n",
    "            print('%s sim is a go!' % test)\n",
    "            sim_kwargs = {'simulation': simulation, \n",
    "                          'alpha': alpha, \n",
    "                          'depth': depth, \n",
    "                          'power_fp': power_fp\n",
    "                          }\n",
    "            p.apply(sim_func, kwds=sim_kwargs)\n",
    "\n",
    "p.close()\n",
    "p.join()"
   ]
  },
  {
   "cell_type": "markdown",
   "metadata": {},
   "source": [
    "In the [next notebook](4-Comparisons%20of%20Power%20Calculations.ipynb), we'll explore the empirical power, and the way it compares to power fit from the empirical results."
   ]
  }
 ],
 "metadata": {
  "kernelspec": {
   "display_name": "Python 3",
   "language": "python",
   "name": "python3"
  },
  "language_info": {
   "codemirror_mode": {
    "name": "ipython",
    "version": 3
   },
   "file_extension": ".py",
   "mimetype": "text/x-python",
   "name": "python",
   "nbconvert_exporter": "python",
   "pygments_lexer": "ipython3",
   "version": "3.5.1"
  }
 },
 "nbformat": 4,
 "nbformat_minor": 0
}
